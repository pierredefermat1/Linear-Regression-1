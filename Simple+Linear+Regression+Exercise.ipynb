{
 "cells": [
  {
   "cell_type": "markdown",
   "metadata": {},
   "source": [
    "# Simple linear regression - exercise"

  {
   "cell_type": "markdown",
   "metadata": {},
   "source": [
    "## Import the relevant libraries"
   ]
  },
  {
   "cell_type": "code",
   "execution_count": 10,
   "metadata": {},
   "outputs": [],
   "source": [
    "import pandas as pd\n",
    "import numpy as np\n",
    "import matplotlib.pyplot as plt\n",
    "import statsmodels.api as sm"
   ]
  },
  {
   "cell_type": "markdown",
   "metadata": {},
   "source": [
    "## Load the data"
   ]
  },
  {
   "cell_type": "code",
   "execution_count": 11,
   "metadata": {},
   "outputs": [],
   "source": [
    "data = pd.read_csv('real_estate_price_size.csv')"
   ]
  },
  {
   "cell_type": "code",
   "execution_count": 12,
   "metadata": {},
   "outputs": [
    {
     "data": {
      "text/html": [
       "<div>\n",
       "<style scoped>\n",
       "    .dataframe tbody tr th:only-of-type {\n",
       "        vertical-align: middle;\n",
       "    }\n",
       "\n",
       "    .dataframe tbody tr th {\n",
       "        vertical-align: top;\n",
       "    }\n",
       "\n",
       "    .dataframe thead th {\n",
       "        text-align: right;\n",
       "    }\n",
       "</style>\n",
       "<table border=\"1\" class=\"dataframe\">\n",
       "  <thead>\n",
       "    <tr style=\"text-align: right;\">\n",
       "      <th></th>\n",
       "      <th>price</th>\n",
       "      <th>size</th>\n",
       "    </tr>\n",
       "  </thead>\n",
       "  <tbody>\n",
       "    <tr>\n",
       "      <th>0</th>\n",
       "      <td>234314.144</td>\n",
       "      <td>643.09</td>\n",
       "    </tr>\n",
       "    <tr>\n",
       "      <th>1</th>\n",
       "      <td>228581.528</td>\n",
       "      <td>656.22</td>\n",
       "    </tr>\n",
       "    <tr>\n",
       "      <th>2</th>\n",
       "      <td>281626.336</td>\n",
       "      <td>487.29</td>\n",
       "    </tr>\n",
       "    <tr>\n",
       "      <th>3</th>\n",
       "      <td>401255.608</td>\n",
       "      <td>1504.75</td>\n",
       "    </tr>\n",
       "    <tr>\n",
       "      <th>4</th>\n",
       "      <td>458674.256</td>\n",
       "      <td>1275.46</td>\n",
       "    </tr>\n",
       "    <tr>\n",
       "      <th>...</th>\n",
       "      <td>...</td>\n",
       "      <td>...</td>\n",
       "    </tr>\n",
       "    <tr>\n",
       "      <th>95</th>\n",
       "      <td>252460.400</td>\n",
       "      <td>549.80</td>\n",
       "    </tr>\n",
       "    <tr>\n",
       "      <th>96</th>\n",
       "      <td>310522.592</td>\n",
       "      <td>1037.44</td>\n",
       "    </tr>\n",
       "    <tr>\n",
       "      <th>97</th>\n",
       "      <td>383635.568</td>\n",
       "      <td>1504.75</td>\n",
       "    </tr>\n",
       "    <tr>\n",
       "      <th>98</th>\n",
       "      <td>225145.248</td>\n",
       "      <td>648.29</td>\n",
       "    </tr>\n",
       "    <tr>\n",
       "      <th>99</th>\n",
       "      <td>274922.856</td>\n",
       "      <td>705.29</td>\n",
       "    </tr>\n",
       "  </tbody>\n",
       "</table>\n",
       "<p>100 rows × 2 columns</p>\n",
       "</div>"
      ],
      "text/plain": [
       "         price     size\n",
       "0   234314.144   643.09\n",
       "1   228581.528   656.22\n",
       "2   281626.336   487.29\n",
       "3   401255.608  1504.75\n",
       "4   458674.256  1275.46\n",
       "..         ...      ...\n",
       "95  252460.400   549.80\n",
       "96  310522.592  1037.44\n",
       "97  383635.568  1504.75\n",
       "98  225145.248   648.29\n",
       "99  274922.856   705.29\n",
       "\n",
       "[100 rows x 2 columns]"
      ]
     },
     "execution_count": 12,
     "metadata": {},
     "output_type": "execute_result"
    }
   ],
   "source": [
    "data"
   ]
  },
  {
   "cell_type": "markdown",
   "metadata": {},
   "source": [
    "## Create the regression"
   ]
  },
  {
   "cell_type": "markdown",
   "metadata": {},
   "source": [
    "### Declare the dependent and the independent variables"
   ]
  },
  {
   "cell_type": "code",
   "execution_count": 13,
   "metadata": {},
   "outputs": [],
   "source": [
    "y = data['price']\n",
    "x1 = data['size']"
   ]
  },
  {
   "cell_type": "markdown",
   "metadata": {},
   "source": [
    "### Explore the data"
   ]
  },
  {
   "cell_type": "code",
   "execution_count": 14,
   "metadata": {},
   "outputs": [
    {
     "data": {
      "image/png": "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\n",
      "text/plain": [
       "<Figure size 432x288 with 1 Axes>"
      ]
     },
     "metadata": {
      "needs_background": "light"
     },
     "output_type": "display_data"
    }
   ],
   "source": [
    "plt.scatter(x1,y)\n",
    "plt.xlabel('size', fontsize = 30)\n",
    "plt.ylabel('price', fontsize = 30)\n",
    "plt.show()"
   ]
  },
  {
   "cell_type": "markdown",
   "metadata": {},
   "source": [
    "### Regression itself"
   ]
  },
  {
   "cell_type": "code",
   "execution_count": 17,
   "metadata": {},
   "outputs": [
    {
     "data": {
      "text/html": [
       "<table class=\"simpletable\">\n",
       "<caption>OLS Regression Results</caption>\n",
       "<tr>\n",
       "  <th>Dep. Variable:</th>          <td>price</td>      <th>  R-squared:         </th> <td>   0.745</td>\n",
       "</tr>\n",
       "<tr>\n",
       "  <th>Model:</th>                   <td>OLS</td>       <th>  Adj. R-squared:    </th> <td>   0.742</td>\n",
       "</tr>\n",
       "<tr>\n",
       "  <th>Method:</th>             <td>Least Squares</td>  <th>  F-statistic:       </th> <td>   285.9</td>\n",
       "</tr>\n",
       "<tr>\n",
       "  <th>Date:</th>             <td>Tue, 04 Jan 2022</td> <th>  Prob (F-statistic):</th> <td>8.13e-31</td>\n",
       "</tr>\n",
       "<tr>\n",
       "  <th>Time:</th>                 <td>16:04:30</td>     <th>  Log-Likelihood:    </th> <td> -1198.3</td>\n",
       "</tr>\n",
       "<tr>\n",
       "  <th>No. Observations:</th>      <td>   100</td>      <th>  AIC:               </th> <td>   2401.</td>\n",
       "</tr>\n",
       "<tr>\n",
       "  <th>Df Residuals:</th>          <td>    98</td>      <th>  BIC:               </th> <td>   2406.</td>\n",
       "</tr>\n",
       "<tr>\n",
       "  <th>Df Model:</th>              <td>     1</td>      <th>                     </th>     <td> </td>   \n",
       "</tr>\n",
       "<tr>\n",
       "  <th>Covariance Type:</th>      <td>nonrobust</td>    <th>                     </th>     <td> </td>   \n",
       "</tr>\n",
       "</table>\n",
       "<table class=\"simpletable\">\n",
       "<tr>\n",
       "    <td></td>       <th>coef</th>     <th>std err</th>      <th>t</th>      <th>P>|t|</th>  <th>[0.025</th>    <th>0.975]</th>  \n",
       "</tr>\n",
       "<tr>\n",
       "  <th>const</th> <td> 1.019e+05</td> <td> 1.19e+04</td> <td>    8.550</td> <td> 0.000</td> <td> 7.83e+04</td> <td> 1.26e+05</td>\n",
       "</tr>\n",
       "<tr>\n",
       "  <th>size</th>  <td>  223.1787</td> <td>   13.199</td> <td>   16.909</td> <td> 0.000</td> <td>  196.986</td> <td>  249.371</td>\n",
       "</tr>\n",
       "</table>\n",
       "<table class=\"simpletable\">\n",
       "<tr>\n",
       "  <th>Omnibus:</th>       <td> 6.262</td> <th>  Durbin-Watson:     </th> <td>   2.267</td>\n",
       "</tr>\n",
       "<tr>\n",
       "  <th>Prob(Omnibus):</th> <td> 0.044</td> <th>  Jarque-Bera (JB):  </th> <td>   2.938</td>\n",
       "</tr>\n",
       "<tr>\n",
       "  <th>Skew:</th>          <td> 0.117</td> <th>  Prob(JB):          </th> <td>   0.230</td>\n",
       "</tr>\n",
       "<tr>\n",
       "  <th>Kurtosis:</th>      <td> 2.194</td> <th>  Cond. No.          </th> <td>2.75e+03</td>\n",
       "</tr>\n",
       "</table><br/><br/>Notes:<br/>[1] Standard Errors assume that the covariance matrix of the errors is correctly specified.<br/>[2] The condition number is large, 2.75e+03. This might indicate that there are<br/>strong multicollinearity or other numerical problems."
      ],
      "text/plain": [
       "<class 'statsmodels.iolib.summary.Summary'>\n",
       "\"\"\"\n",
       "                            OLS Regression Results                            \n",
       "==============================================================================\n",
       "Dep. Variable:                  price   R-squared:                       0.745\n",
       "Model:                            OLS   Adj. R-squared:                  0.742\n",
       "Method:                 Least Squares   F-statistic:                     285.9\n",
       "Date:                Tue, 04 Jan 2022   Prob (F-statistic):           8.13e-31\n",
       "Time:                        16:04:30   Log-Likelihood:                -1198.3\n",
       "No. Observations:                 100   AIC:                             2401.\n",
       "Df Residuals:                      98   BIC:                             2406.\n",
       "Df Model:                           1                                         \n",
       "Covariance Type:            nonrobust                                         \n",
       "==============================================================================\n",
       "                 coef    std err          t      P>|t|      [0.025      0.975]\n",
       "------------------------------------------------------------------------------\n",
       "const       1.019e+05   1.19e+04      8.550      0.000    7.83e+04    1.26e+05\n",
       "size         223.1787     13.199     16.909      0.000     196.986     249.371\n",
       "==============================================================================\n",
       "Omnibus:                        6.262   Durbin-Watson:                   2.267\n",
       "Prob(Omnibus):                  0.044   Jarque-Bera (JB):                2.938\n",
       "Skew:                           0.117   Prob(JB):                        0.230\n",
       "Kurtosis:                       2.194   Cond. No.                     2.75e+03\n",
       "==============================================================================\n",
       "\n",
       "Notes:\n",
       "[1] Standard Errors assume that the covariance matrix of the errors is correctly specified.\n",
       "[2] The condition number is large, 2.75e+03. This might indicate that there are\n",
       "strong multicollinearity or other numerical problems.\n",
       "\"\"\""
      ]
     },
     "execution_count": 17,
     "metadata": {},
     "output_type": "execute_result"
    }
   ],
   "source": [
    "x0 = sm.add_constant(x1)\n",
    "results = sm.OLS(y,x0).fit()\n",
    "results.summary()"
   ]
  },
  {
   "cell_type": "markdown",
   "metadata": {},
   "source": [
    "### Plot the regression line on the initial scatter"
   ]
  },
  {
   "cell_type": "code",
   "execution_count": 19,
   "metadata": {},
   "outputs": [
    {
     "data": {
      "image/png": "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\n",
      "text/plain": [
       "<Figure size 432x288 with 1 Axes>"
      ]
     },
     "metadata": {
      "needs_background": "light"
     },
     "output_type": "display_data"
    }
   ],
   "source": [
    "plt.scatter(x1,y)\n",
    "yhat = 223.1787*x1 + 1.019e+05\n",
    "fig = plt.plot(x1,yhat,lw = 3, c = 'yellow', label = 'regression line')\n",
    "plt.xlabel('size', fontsize = 30)\n",
    "plt.ylabel('price', fontsize = 30)\n",
    "plt.show()"
   ]
  },
  {
   "cell_type": "code",
   "execution_count": null,
   "metadata": {},
   "outputs": [],
   "source": []
  }
 ],
 "metadata": {
  "kernelspec": {
   "display_name": "Python 3 (ipykernel)",
   "language": "python",
   "name": "python3"
  },
  "language_info": {
   "codemirror_mode": {
    "name": "ipython",
    "version": 3
   },
   "file_extension": ".py",
   "mimetype": "text/x-python",
   "name": "python",
   "nbconvert_exporter": "python",
   "pygments_lexer": "ipython3",
   "version": "3.9.7"
  }
 },
 "nbformat": 4,
 "nbformat_minor": 2
}
